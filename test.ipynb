{
 "cells": [
  {
   "cell_type": "code",
   "execution_count": 1,
   "metadata": {},
   "outputs": [],
   "source": [
    "import re\n",
    "import json\n",
    "import pandas as pd\n",
    "from utils import to_snake_case, load_json, dump_json"
   ]
  },
  {
   "cell_type": "markdown",
   "metadata": {},
   "source": [
    "# Upload dataset and convert to json"
   ]
  },
  {
   "cell_type": "code",
   "execution_count": 2,
   "metadata": {},
   "outputs": [],
   "source": [
    "def prepare_df(pth: str):\n",
    "    \n",
    "    df = pd.read_excel(pth)\n",
    "\n",
    "    cols = df.columns.to_list()\n",
    "    cols[-1] = \"MAXIMUM RETAIL PRICE\"\n",
    "    df.columns = cols\n",
    "\n",
    "    df = df.rename(columns=to_snake_case)\n",
    "\n",
    "    df.dropna(subset=['maximum_retail_price'], inplace=True)\n",
    "    df.dropna(subset=['active_substance'], inplace=True)\n",
    "    df.dropna(subset=['name_of_medicinal_product'], inplace=True)\n",
    "    df.reset_index(inplace=True, drop=True)\n",
    "    df['name'] = df['name_of_medicinal_product'].apply(lambda x: x.split()[0])\n",
    "    df['name'] = df['name'].apply(lambda x: x.split('/')[0])\n",
    "    df['name'] = df['name'].apply(lambda x: x.split('+')[0])\n",
    "    gr_exception = \"Εξαίρεση αναγραφής τιμής στον τιμοκατάλογο (Κανονισμός 4, ΚΔΠ 98/2019)\"\n",
    "    gr_exception_1 = \"* Εξαίρεση αναγραφής τιμής στον τιμοκατάλογο (Κανονισμός 4, ΚΔΠ 98/2019)\"\n",
    "    df['maximum_retail_price'].replace(gr_exception, 'not_listed', inplace=True)\n",
    "    df['maximum_retail_price'].replace(gr_exception_1, 'not_listed', inplace=True)\n",
    "\n",
    "    new_order = [\n",
    "    'name', 'maximum_retail_price', 'active_substance', \n",
    "    'name_of_medicinal_product', 'package', \n",
    "    'marketing_authorisation_holder', 'local_pricing_representative',\n",
    "    'pricing_code'\n",
    "    ]\n",
    "\n",
    "    return df[new_order]"
   ]
  },
  {
   "cell_type": "code",
   "execution_count": 40,
   "metadata": {},
   "outputs": [],
   "source": [
    "df_2023 = prepare_df(\"csv/ΤΙΜΟΚΑΤΑΛΟΓΟΣ ΣΤ2023_24-11-2023_(05-12-2023)_WEB_EN.xlsx\")\n",
    "df_2024 = prepare_df(\"csv/ΤΙΜΟΚΑΤΑΛΟΓΟΣ Β2024_10.04.2024_(29.03.2024)_WEB_EN.xlsx\")"
   ]
  },
  {
   "cell_type": "code",
   "execution_count": 33,
   "metadata": {},
   "outputs": [],
   "source": [
    "df_2023.reset_index().to_json('drugs_2023.json', orient='records', indent=4)"
   ]
  },
  {
   "cell_type": "code",
   "execution_count": 34,
   "metadata": {},
   "outputs": [],
   "source": [
    "df_2024.reset_index().to_json('drugs_2024.json', orient='records', indent=4)"
   ]
  },
  {
   "cell_type": "code",
   "execution_count": 3,
   "metadata": {},
   "outputs": [],
   "source": [
    "drugs = load_json('drugs.json')"
   ]
  },
  {
   "cell_type": "markdown",
   "metadata": {},
   "source": [
    "# load jsons"
   ]
  },
  {
   "cell_type": "code",
   "execution_count": 58,
   "metadata": {},
   "outputs": [],
   "source": [
    "df_2023 = load_json('drugs_2023.json')\n",
    "df_2024 = load_json(\"drugs_2024.json\")"
   ]
  },
  {
   "cell_type": "code",
   "execution_count": 73,
   "metadata": {},
   "outputs": [],
   "source": [
    "DATE1 = '29-03-2024'\n",
    "DATE2 = '05-12-2023'\n",
    "\n",
    "def fill_dc(ind: int, d: dict) -> dict:\n",
    "    \n",
    "    dc = {}\n",
    "    dc['ind'] = ind\n",
    "    dc['_name'] = d['name'].capitalize()\n",
    "    dc['_full_name'] = d['name_of_medicinal_product'].capitalize()\n",
    "    dc['_active'] = d['active_substance'].capitalize()\n",
    "    dc['_package'] = d['package'].split(' ', 1)\n",
    "    dc['_price'] = d['maximum_retail_price']\n",
    "\n",
    "    dc[DATE1] = {}\n",
    "    dc[DATE2] = {}\n",
    "\n",
    "    return dc"
   ]
  },
  {
   "cell_type": "code",
   "execution_count": 82,
   "metadata": {},
   "outputs": [],
   "source": [
    "res = []\n",
    "ind = 0\n",
    "\n",
    "for d3 in df_2023:\n",
    "\n",
    "    dc = fill_dc(ind, d3)\n",
    "\n",
    "    dc[DATE2].update(d3)\n",
    "\n",
    "    res.append(dc)\n",
    "    ind += 1"
   ]
  },
  {
   "cell_type": "code",
   "execution_count": 83,
   "metadata": {},
   "outputs": [],
   "source": [
    "res2 = []\n",
    "for d4 in df_2024:\n",
    "    code = d4.get('pricing_code')\n",
    "\n",
    "    new = True\n",
    "    for r in res:\n",
    "        if code == r[DATE2]['pricing_code']:\n",
    "            r[DATE1].update(d4)\n",
    "            new = False\n",
    "            break\n",
    "\n",
    "\n",
    "    if new:\n",
    "        dc = fill_dc(ind, d4)\n",
    "        dc[DATE1].update(d4)\n",
    "        \n",
    "        res2.append(dc)\n",
    "        ind += 1     \n"
   ]
  },
  {
   "cell_type": "code",
   "execution_count": 88,
   "metadata": {},
   "outputs": [],
   "source": [
    "res += res2\n",
    "sorted_res = sorted(res, key=lambda x: x['_name'])\n",
    "\n",
    "for i, s in enumerate(sorted_res):\n",
    "    s['ind'] = i\n",
    "    if s[DATE1] != {}:\n",
    "        s['_price'] = s[DATE1][\"maximum_retail_price\"]\n",
    "    else:\n",
    "        s['_price'] = s[DATE2][\"maximum_retail_price\"]\n",
    "\n",
    "\n",
    "# dump_json(\"drugs.json\", sorted_res)"
   ]
  },
  {
   "cell_type": "markdown",
   "metadata": {},
   "source": [
    "# Clear drugs.json"
   ]
  },
  {
   "cell_type": "code",
   "execution_count": 3,
   "metadata": {},
   "outputs": [],
   "source": [
    "df = load_json(\"drugs.json\")"
   ]
  },
  {
   "cell_type": "code",
   "execution_count": 9,
   "metadata": {},
   "outputs": [],
   "source": [
    "def format_active(string: str, sign: str) -> list:\n",
    "    return [s.strip().capitalize() for s in string.replace(sign, \",\").split(',') if s != '']"
   ]
  },
  {
   "cell_type": "code",
   "execution_count": 10,
   "metadata": {},
   "outputs": [
    {
     "name": "stdout",
     "output_type": "stream",
     "text": [
      "1 145 1\n",
      "2 146 1\n",
      "3 2108 1\n",
      "4 3533 1\n",
      "5 3950 1\n",
      "6 4475 1\n",
      "7 5522 1\n",
      "8 5523 1\n",
      "9 5593 1\n",
      "10 5671 1\n",
      "11 5856 1\n",
      "12 5857 1\n",
      "13 5858 1\n",
      "14 5859 1\n",
      "15 5860 1\n",
      "16 5861 1\n",
      "17 5862 1\n",
      "18 5863 1\n"
     ]
    }
   ],
   "source": [
    "ind = 1\n",
    "for d in df:\n",
    "    active = d.get('_active')\n",
    "    for a in active:\n",
    "        sign = '\\n'\n",
    "        if sign in a and len(active) == 1:\n",
    "            d['_active'] = format_active(a, sign)\n",
    "            print(ind, d['ind'], len(active))\n",
    "            ind += 1\n",
    "            "
   ]
  },
  {
   "cell_type": "code",
   "execution_count": 11,
   "metadata": {},
   "outputs": [
    {
     "data": {
      "text/plain": [
       "{'ind': 145,\n",
       " '_name': 'Akeega',\n",
       " '_full_name': 'Akeega tablet, film coated 100mg/500mg',\n",
       " '_active': ['Niraparib', 'Abiraterone acetate'],\n",
       " '_package': ['PACK', 'with 56 tabs in blister(s)'],\n",
       " '_price': 5104.04,\n",
       " '29-03-2024': {'index': 143,\n",
       "  'name': 'AKEEGA',\n",
       "  'maximum_retail_price': 5104.04,\n",
       "  'active_substance': 'NIRAPARIB\\nABIRATERONE ACETATE',\n",
       "  'name_of_medicinal_product': 'AKEEGA TABLET, FILM COATED 100MG/500MG',\n",
       "  'package': 'PACK WITH 56 TABS IN BLISTER(S)',\n",
       "  'marketing_authorisation_holder': 'JANSSEN-CILAG INTERNATIONAL NV',\n",
       "  'local_pricing_representative': 'VARNAVAS HADJIPANAYIS LTD',\n",
       "  'pricing_code': 'C172202/1'},\n",
       " '05-12-2023': {}}"
      ]
     },
     "execution_count": 11,
     "metadata": {},
     "output_type": "execute_result"
    }
   ],
   "source": [
    "df[145]"
   ]
  },
  {
   "cell_type": "code",
   "execution_count": 12,
   "metadata": {},
   "outputs": [],
   "source": [
    "# dump_json('drugs.json', df)"
   ]
  },
  {
   "cell_type": "markdown",
   "metadata": {},
   "source": [
    "Ambisome\n",
    "AREGALU\n",
    "CEFUROXIME 1076\n",
    "eye drops\n",
    "Tavneos"
   ]
  },
  {
   "cell_type": "markdown",
   "metadata": {},
   "source": [
    "# Prepare active"
   ]
  },
  {
   "cell_type": "code",
   "execution_count": 24,
   "metadata": {},
   "outputs": [],
   "source": [
    "active: list = load_json('active.json')\n",
    "drugs: list = load_json('drugs.json')"
   ]
  },
  {
   "cell_type": "code",
   "execution_count": 26,
   "metadata": {},
   "outputs": [],
   "source": [
    "for d in drugs:\n",
    "    name = d.get('_name').upper()\n",
    "\n",
    "    exist = False\n",
    "    for a in active:\n",
    "        if name == a.get(\"base_name\"):\n",
    "            exist = True\n",
    "            break\n",
    "\n",
    "    if not exist:\n",
    "        dc = {\n",
    "            \"ind\": 180,\n",
    "            \"base_name\": name.upper(),\n",
    "            \"drugs\": [name],\n",
    "            \"active\": d.get('_active')\n",
    "            }\n",
    "        \n",
    "        active.append(dc)\n",
    "        "
   ]
  },
  {
   "cell_type": "code",
   "execution_count": 30,
   "metadata": {},
   "outputs": [],
   "source": [
    "sorted_active = sorted(active, key=lambda x: x['base_name'])"
   ]
  },
  {
   "cell_type": "code",
   "execution_count": 34,
   "metadata": {},
   "outputs": [],
   "source": [
    "ind = 0\n",
    "for s in sorted_active:\n",
    "    s['ind'] = ind\n",
    "    ind += 1"
   ]
  },
  {
   "cell_type": "code",
   "execution_count": 36,
   "metadata": {},
   "outputs": [],
   "source": [
    "# dump_json('active.json', sorted_active)"
   ]
  }
 ],
 "metadata": {
  "kernelspec": {
   "display_name": "selenium",
   "language": "python",
   "name": "python3"
  },
  "language_info": {
   "codemirror_mode": {
    "name": "ipython",
    "version": 3
   },
   "file_extension": ".py",
   "mimetype": "text/x-python",
   "name": "python",
   "nbconvert_exporter": "python",
   "pygments_lexer": "ipython3",
   "version": "3.11.3"
  }
 },
 "nbformat": 4,
 "nbformat_minor": 2
}
